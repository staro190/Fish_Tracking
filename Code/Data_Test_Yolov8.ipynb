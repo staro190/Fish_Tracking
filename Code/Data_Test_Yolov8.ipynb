{
 "cells": [
  {
   "cell_type": "code",
   "execution_count": null,
   "metadata": {
    "colab": {
     "base_uri": "https://localhost:8080/"
    },
    "id": "KNtdU3FTiuNm",
    "outputId": "c6ccd4a3-edf1-4cd3-c7b9-a0aa6cff5801"
   },
   "outputs": [
    {
     "name": "stdout",
     "output_type": "stream",
     "text": [
      "Looking in indexes: https://pypi.org/simple, https://us-python.pkg.dev/colab-wheels/public/simple/\n",
      "Collecting ultralytics\n",
      "  Downloading ultralytics-8.0.109-py3-none-any.whl (591 kB)\n",
      "\u001b[2K     \u001b[90m━━━━━━━━━━━━━━━━━━━━━━━━━━━━━━━━━━━━━━\u001b[0m \u001b[32m591.4/591.4 kB\u001b[0m \u001b[31m15.9 MB/s\u001b[0m eta \u001b[36m0:00:00\u001b[0m\n",
      "\u001b[?25hRequirement already satisfied: matplotlib>=3.2.2 in /usr/local/lib/python3.10/dist-packages (from ultralytics) (3.7.1)\n",
      "Requirement already satisfied: opencv-python>=4.6.0 in /usr/local/lib/python3.10/dist-packages (from ultralytics) (4.7.0.72)\n",
      "Requirement already satisfied: Pillow>=7.1.2 in /usr/local/lib/python3.10/dist-packages (from ultralytics) (8.4.0)\n",
      "Requirement already satisfied: PyYAML>=5.3.1 in /usr/local/lib/python3.10/dist-packages (from ultralytics) (6.0)\n",
      "Requirement already satisfied: requests>=2.23.0 in /usr/local/lib/python3.10/dist-packages (from ultralytics) (2.27.1)\n",
      "Requirement already satisfied: scipy>=1.4.1 in /usr/local/lib/python3.10/dist-packages (from ultralytics) (1.10.1)\n",
      "Requirement already satisfied: torch>=1.7.0 in /usr/local/lib/python3.10/dist-packages (from ultralytics) (2.0.1+cu118)\n",
      "Requirement already satisfied: torchvision>=0.8.1 in /usr/local/lib/python3.10/dist-packages (from ultralytics) (0.15.2+cu118)\n",
      "Requirement already satisfied: tqdm>=4.64.0 in /usr/local/lib/python3.10/dist-packages (from ultralytics) (4.65.0)\n",
      "Requirement already satisfied: pandas>=1.1.4 in /usr/local/lib/python3.10/dist-packages (from ultralytics) (1.5.3)\n",
      "Requirement already satisfied: seaborn>=0.11.0 in /usr/local/lib/python3.10/dist-packages (from ultralytics) (0.12.2)\n",
      "Requirement already satisfied: psutil in /usr/local/lib/python3.10/dist-packages (from ultralytics) (5.9.5)\n",
      "Collecting sentry-sdk (from ultralytics)\n",
      "  Downloading sentry_sdk-1.24.0-py2.py3-none-any.whl (206 kB)\n",
      "\u001b[2K     \u001b[90m━━━━━━━━━━━━━━━━━━━━━━━━━━━━━━━━━━━━━━━\u001b[0m \u001b[32m206.5/206.5 kB\u001b[0m \u001b[31m9.7 MB/s\u001b[0m eta \u001b[36m0:00:00\u001b[0m\n",
      "\u001b[?25hRequirement already satisfied: contourpy>=1.0.1 in /usr/local/lib/python3.10/dist-packages (from matplotlib>=3.2.2->ultralytics) (1.0.7)\n",
      "Requirement already satisfied: cycler>=0.10 in /usr/local/lib/python3.10/dist-packages (from matplotlib>=3.2.2->ultralytics) (0.11.0)\n",
      "Requirement already satisfied: fonttools>=4.22.0 in /usr/local/lib/python3.10/dist-packages (from matplotlib>=3.2.2->ultralytics) (4.39.3)\n",
      "Requirement already satisfied: kiwisolver>=1.0.1 in /usr/local/lib/python3.10/dist-packages (from matplotlib>=3.2.2->ultralytics) (1.4.4)\n",
      "Requirement already satisfied: numpy>=1.20 in /usr/local/lib/python3.10/dist-packages (from matplotlib>=3.2.2->ultralytics) (1.22.4)\n",
      "Requirement already satisfied: packaging>=20.0 in /usr/local/lib/python3.10/dist-packages (from matplotlib>=3.2.2->ultralytics) (23.1)\n",
      "Requirement already satisfied: pyparsing>=2.3.1 in /usr/local/lib/python3.10/dist-packages (from matplotlib>=3.2.2->ultralytics) (3.0.9)\n",
      "Requirement already satisfied: python-dateutil>=2.7 in /usr/local/lib/python3.10/dist-packages (from matplotlib>=3.2.2->ultralytics) (2.8.2)\n",
      "Requirement already satisfied: pytz>=2020.1 in /usr/local/lib/python3.10/dist-packages (from pandas>=1.1.4->ultralytics) (2022.7.1)\n",
      "Requirement already satisfied: urllib3<1.27,>=1.21.1 in /usr/local/lib/python3.10/dist-packages (from requests>=2.23.0->ultralytics) (1.26.15)\n",
      "Requirement already satisfied: certifi>=2017.4.17 in /usr/local/lib/python3.10/dist-packages (from requests>=2.23.0->ultralytics) (2022.12.7)\n",
      "Requirement already satisfied: charset-normalizer~=2.0.0 in /usr/local/lib/python3.10/dist-packages (from requests>=2.23.0->ultralytics) (2.0.12)\n",
      "Requirement already satisfied: idna<4,>=2.5 in /usr/local/lib/python3.10/dist-packages (from requests>=2.23.0->ultralytics) (3.4)\n",
      "Requirement already satisfied: filelock in /usr/local/lib/python3.10/dist-packages (from torch>=1.7.0->ultralytics) (3.12.0)\n",
      "Requirement already satisfied: typing-extensions in /usr/local/lib/python3.10/dist-packages (from torch>=1.7.0->ultralytics) (4.5.0)\n",
      "Requirement already satisfied: sympy in /usr/local/lib/python3.10/dist-packages (from torch>=1.7.0->ultralytics) (1.11.1)\n",
      "Requirement already satisfied: networkx in /usr/local/lib/python3.10/dist-packages (from torch>=1.7.0->ultralytics) (3.1)\n",
      "Requirement already satisfied: jinja2 in /usr/local/lib/python3.10/dist-packages (from torch>=1.7.0->ultralytics) (3.1.2)\n",
      "Requirement already satisfied: triton==2.0.0 in /usr/local/lib/python3.10/dist-packages (from torch>=1.7.0->ultralytics) (2.0.0)\n",
      "Requirement already satisfied: cmake in /usr/local/lib/python3.10/dist-packages (from triton==2.0.0->torch>=1.7.0->ultralytics) (3.25.2)\n",
      "Requirement already satisfied: lit in /usr/local/lib/python3.10/dist-packages (from triton==2.0.0->torch>=1.7.0->ultralytics) (16.0.5)\n",
      "Requirement already satisfied: six>=1.5 in /usr/local/lib/python3.10/dist-packages (from python-dateutil>=2.7->matplotlib>=3.2.2->ultralytics) (1.16.0)\n",
      "Requirement already satisfied: MarkupSafe>=2.0 in /usr/local/lib/python3.10/dist-packages (from jinja2->torch>=1.7.0->ultralytics) (2.1.2)\n",
      "Requirement already satisfied: mpmath>=0.19 in /usr/local/lib/python3.10/dist-packages (from sympy->torch>=1.7.0->ultralytics) (1.3.0)\n",
      "Installing collected packages: sentry-sdk, ultralytics\n",
      "Successfully installed sentry-sdk-1.24.0 ultralytics-8.0.109\n"
     ]
    }
   ],
   "source": [
    "!pip install ultralytics"
   ]
  },
  {
   "cell_type": "code",
   "execution_count": null,
   "metadata": {
    "id": "bJqg4LEqiqY8"
   },
   "outputs": [],
   "source": [
    "from ultralytics import YOLO\n",
    "import yaml"
   ]
  },
  {
   "cell_type": "code",
   "execution_count": null,
   "metadata": {
    "colab": {
     "base_uri": "https://localhost:8080/"
    },
    "id": "KtH6QlkWiyXZ",
    "outputId": "3fa3080f-7540-4365-edf6-54ccab01acf5"
   },
   "outputs": [
    {
     "name": "stdout",
     "output_type": "stream",
     "text": [
      "Mounted at /content/drive\n",
      "/content/drive/MyDrive/AI1/Yolov8\n"
     ]
    }
   ],
   "source": [
    "from google.colab import drive\n",
    "drive.mount('/content/drive')\n",
    "\n",
    "%cd /content/drive/MyDrive/AI1/Yolov8"
   ]
  },
  {
   "cell_type": "code",
   "execution_count": null,
   "metadata": {
    "id": "ZXj2PqW5doxs"
   },
   "outputs": [],
   "source": [
    "data_dir = '/content/drive/MyDrive/AI1/Yolov8'\n",
    "data_yaml = '/content/drive/MyDrive/AI1/Yolov8/data.yaml'"
   ]
  },
  {
   "cell_type": "code",
   "execution_count": null,
   "metadata": {
    "colab": {
     "base_uri": "https://localhost:8080/",
     "height": 177
    },
    "id": "TTMBN_wRd7sA",
    "outputId": "1667ecfe-93f6-4264-9d32-4188c33b10cf"
   },
   "outputs": [
    {
     "data": {
      "text/plain": [
       "{'names': {0: 'Rock bream',\n",
       "  1: 'Olive flounder',\n",
       "  2: 'Korea rockfish',\n",
       "  3: 'Red seabream',\n",
       "  4: 'Black porgy'},\n",
       " 'nc': 5,\n",
       " 'train': '/content/drive/MyDrive/AI1/Yolov8/train/images',\n",
       " 'val': '/content/drive/MyDrive/AI1/Yolov8/valid/images'}"
      ]
     },
     "metadata": {},
     "output_type": "display_data"
    }
   ],
   "source": [
    "with open(data_yaml) as f :\n",
    "    film = yaml.load(f, Loader=yaml.FullLoader)\n",
    "    display(film)"
   ]
  },
  {
   "cell_type": "code",
   "execution_count": null,
   "metadata": {
    "colab": {
     "base_uri": "https://localhost:8080/"
    },
    "id": "3h9gxeLxeQmO",
    "outputId": "cdaa2c9c-2e0a-4625-85a4-1874882d6eb7"
   },
   "outputs": [
    {
     "data": {
      "text/plain": [
       "{'names': {0: 'Rock bream',\n",
       "  1: 'Olive flounder',\n",
       "  2: 'Korea rockfish',\n",
       "  3: 'Red seabream',\n",
       "  4: 'Black porgy'},\n",
       " 'nc': 5,\n",
       " 'train': '/content/drive/MyDrive/AI1/Yolov8/train/images',\n",
       " 'val': '/content/drive/MyDrive/AI1/Yolov8/valid/images'}"
      ]
     },
     "execution_count": 6,
     "metadata": {},
     "output_type": "execute_result"
    }
   ],
   "source": [
    "film['train'] = \"/content/drive/MyDrive/AI1/Yolov8/train/images\"\n",
    "film['val'] = \"/content/drive/MyDrive/AI1/Yolov8/valid/images\"\n",
    "\n",
    "film"
   ]
  },
  {
   "cell_type": "code",
   "execution_count": null,
   "metadata": {
    "id": "7LdEsGBPerKr"
   },
   "outputs": [],
   "source": [
    "with open(data_yaml, 'w') as f :\n",
    "    yaml.dump(film, f)"
   ]
  },
  {
   "cell_type": "markdown",
   "metadata": {
    "id": "mY4aI76Rd8EQ"
   },
   "source": [
    "# Model Test"
   ]
  },
  {
   "cell_type": "code",
   "execution_count": null,
   "metadata": {
    "colab": {
     "base_uri": "https://localhost:8080/"
    },
    "id": "RKDOOPqjjMlM",
    "outputId": "c3717717-b58b-4ccc-a071-c74cd7b1b704"
   },
   "outputs": [
    {
     "name": "stderr",
     "output_type": "stream",
     "text": [
      "\n",
      "                   from  n    params  module                                       arguments                     \n",
      "  0                  -1  1       464  ultralytics.nn.modules.conv.Conv             [3, 16, 3, 2]                 \n",
      "  1                  -1  1      4672  ultralytics.nn.modules.conv.Conv             [16, 32, 3, 2]                \n",
      "  2                  -1  1      7360  ultralytics.nn.modules.block.C2f             [32, 32, 1, True]             \n",
      "  3                  -1  1     18560  ultralytics.nn.modules.conv.Conv             [32, 64, 3, 2]                \n",
      "  4                  -1  2     49664  ultralytics.nn.modules.block.C2f             [64, 64, 2, True]             \n",
      "  5                  -1  1     73984  ultralytics.nn.modules.conv.Conv             [64, 128, 3, 2]               \n",
      "  6                  -1  2    197632  ultralytics.nn.modules.block.C2f             [128, 128, 2, True]           \n",
      "  7                  -1  1    295424  ultralytics.nn.modules.conv.Conv             [128, 256, 3, 2]              \n",
      "  8                  -1  1    460288  ultralytics.nn.modules.block.C2f             [256, 256, 1, True]           \n",
      "  9                  -1  1    164608  ultralytics.nn.modules.block.SPPF            [256, 256, 5]                 \n",
      " 10                  -1  1         0  torch.nn.modules.upsampling.Upsample         [None, 2, 'nearest']          \n",
      " 11             [-1, 6]  1         0  ultralytics.nn.modules.conv.Concat           [1]                           \n",
      " 12                  -1  1    148224  ultralytics.nn.modules.block.C2f             [384, 128, 1]                 \n",
      " 13                  -1  1         0  torch.nn.modules.upsampling.Upsample         [None, 2, 'nearest']          \n",
      " 14             [-1, 4]  1         0  ultralytics.nn.modules.conv.Concat           [1]                           \n",
      " 15                  -1  1     37248  ultralytics.nn.modules.block.C2f             [192, 64, 1]                  \n",
      " 16                  -1  1     36992  ultralytics.nn.modules.conv.Conv             [64, 64, 3, 2]                \n",
      " 17            [-1, 12]  1         0  ultralytics.nn.modules.conv.Concat           [1]                           \n",
      " 18                  -1  1    123648  ultralytics.nn.modules.block.C2f             [192, 128, 1]                 \n",
      " 19                  -1  1    147712  ultralytics.nn.modules.conv.Conv             [128, 128, 3, 2]              \n",
      " 20             [-1, 9]  1         0  ultralytics.nn.modules.conv.Concat           [1]                           \n",
      " 21                  -1  1    493056  ultralytics.nn.modules.block.C2f             [384, 256, 1]                 \n",
      " 22        [15, 18, 21]  1    897664  ultralytics.nn.modules.head.Detect           [80, [64, 128, 256]]          \n",
      "YOLOv8n summary: 225 layers, 3157200 parameters, 3157184 gradients\n",
      "\n",
      "\n",
      "                   from  n    params  module                                       arguments                     \n",
      "  0                  -1  1       464  ultralytics.nn.modules.conv.Conv             [3, 16, 3, 2]                 \n",
      "  1                  -1  1      4672  ultralytics.nn.modules.conv.Conv             [16, 32, 3, 2]                \n",
      "  2                  -1  1      7360  ultralytics.nn.modules.block.C2f             [32, 32, 1, True]             \n",
      "  3                  -1  1     18560  ultralytics.nn.modules.conv.Conv             [32, 64, 3, 2]                \n",
      "  4                  -1  2     49664  ultralytics.nn.modules.block.C2f             [64, 64, 2, True]             \n",
      "  5                  -1  1     73984  ultralytics.nn.modules.conv.Conv             [64, 128, 3, 2]               \n",
      "  6                  -1  2    197632  ultralytics.nn.modules.block.C2f             [128, 128, 2, True]           \n",
      "  7                  -1  1    295424  ultralytics.nn.modules.conv.Conv             [128, 256, 3, 2]              \n",
      "  8                  -1  1    460288  ultralytics.nn.modules.block.C2f             [256, 256, 1, True]           \n",
      "  9                  -1  1    164608  ultralytics.nn.modules.block.SPPF            [256, 256, 5]                 \n",
      " 10                  -1  1         0  torch.nn.modules.upsampling.Upsample         [None, 2, 'nearest']          \n",
      " 11             [-1, 6]  1         0  ultralytics.nn.modules.conv.Concat           [1]                           \n",
      " 12                  -1  1    148224  ultralytics.nn.modules.block.C2f             [384, 128, 1]                 \n",
      " 13                  -1  1         0  torch.nn.modules.upsampling.Upsample         [None, 2, 'nearest']          \n",
      " 14             [-1, 4]  1         0  ultralytics.nn.modules.conv.Concat           [1]                           \n",
      " 15                  -1  1     37248  ultralytics.nn.modules.block.C2f             [192, 64, 1]                  \n",
      " 16                  -1  1     36992  ultralytics.nn.modules.conv.Conv             [64, 64, 3, 2]                \n",
      " 17            [-1, 12]  1         0  ultralytics.nn.modules.conv.Concat           [1]                           \n",
      " 18                  -1  1    123648  ultralytics.nn.modules.block.C2f             [192, 128, 1]                 \n",
      " 19                  -1  1    147712  ultralytics.nn.modules.conv.Conv             [128, 128, 3, 2]              \n",
      " 20             [-1, 9]  1         0  ultralytics.nn.modules.conv.Concat           [1]                           \n",
      " 21                  -1  1    493056  ultralytics.nn.modules.block.C2f             [384, 256, 1]                 \n",
      " 22        [15, 18, 21]  1    897664  ultralytics.nn.modules.head.Detect           [80, [64, 128, 256]]          \n",
      "YOLOv8n summary: 225 layers, 3157200 parameters, 3157184 gradients\n",
      "\n",
      "Transferred 355/355 items from pretrained weights\n"
     ]
    }
   ],
   "source": [
    "model = YOLO('yolov8n.yaml')\n",
    "model = YOLO('yolov8n.pt')\n",
    "model = YOLO('yolov8n.yaml').load('yolov8n.pt')"
   ]
  },
  {
   "cell_type": "code",
   "execution_count": null,
   "metadata": {
    "colab": {
     "base_uri": "https://localhost:8080/"
    },
    "id": "9fZ_JQAjvY6A",
    "outputId": "43f5d823-aa9d-4c7d-d638-07ad49daba88"
   },
   "outputs": [
    {
     "name": "stderr",
     "output_type": "stream",
     "text": [
      "Ultralytics YOLOv8.0.109 🚀 Python-3.10.11 torch-2.0.1+cu118 CUDA:0 (Tesla T4, 15102MiB)\n",
      "\u001b[34m\u001b[1myolo/engine/trainer: \u001b[0mtask=detect, mode=train, model=yolov8n.yaml, data=./data.yaml, epochs=1, patience=30, batch=32, imgsz=416, save=True, save_period=-1, cache=False, device=None, workers=8, project=None, name=None, exist_ok=False, pretrained=False, optimizer=SGD, verbose=True, seed=0, deterministic=True, single_cls=False, rect=False, cos_lr=False, close_mosaic=0, resume=False, amp=True, overlap_mask=True, mask_ratio=4, dropout=0.0, val=True, split=val, save_json=False, save_hybrid=False, conf=None, iou=0.7, max_det=300, half=False, dnn=False, plots=True, source=None, show=False, save_txt=False, save_conf=False, save_crop=False, show_labels=True, show_conf=True, vid_stride=1, line_width=None, visualize=False, augment=False, agnostic_nms=False, classes=None, retina_masks=False, boxes=True, format=torchscript, keras=False, optimize=False, int8=False, dynamic=False, simplify=False, opset=None, workspace=4, nms=False, lr0=0.01, lrf=0.01, momentum=0.937, weight_decay=0.0005, warmup_epochs=3.0, warmup_momentum=0.8, warmup_bias_lr=0.1, box=7.5, cls=0.5, dfl=1.5, pose=12.0, kobj=1.0, label_smoothing=0.0, nbs=64, hsv_h=0.015, hsv_s=0.7, hsv_v=0.4, degrees=0.0, translate=0.1, scale=0.5, shear=0.0, perspective=0.0, flipud=0.0, fliplr=0.5, mosaic=1.0, mixup=0.0, copy_paste=0.0, cfg=None, v5loader=False, tracker=botsort.yaml, save_dir=runs/detect/train6\n",
      "\n",
      "                   from  n    params  module                                       arguments                     \n",
      "  0                  -1  1       464  ultralytics.nn.modules.conv.Conv             [3, 16, 3, 2]                 \n",
      "  1                  -1  1      4672  ultralytics.nn.modules.conv.Conv             [16, 32, 3, 2]                \n",
      "  2                  -1  1      7360  ultralytics.nn.modules.block.C2f             [32, 32, 1, True]             \n",
      "  3                  -1  1     18560  ultralytics.nn.modules.conv.Conv             [32, 64, 3, 2]                \n",
      "  4                  -1  2     49664  ultralytics.nn.modules.block.C2f             [64, 64, 2, True]             \n",
      "  5                  -1  1     73984  ultralytics.nn.modules.conv.Conv             [64, 128, 3, 2]               \n",
      "  6                  -1  2    197632  ultralytics.nn.modules.block.C2f             [128, 128, 2, True]           \n",
      "  7                  -1  1    295424  ultralytics.nn.modules.conv.Conv             [128, 256, 3, 2]              \n",
      "  8                  -1  1    460288  ultralytics.nn.modules.block.C2f             [256, 256, 1, True]           \n",
      "  9                  -1  1    164608  ultralytics.nn.modules.block.SPPF            [256, 256, 5]                 \n",
      " 10                  -1  1         0  torch.nn.modules.upsampling.Upsample         [None, 2, 'nearest']          \n",
      " 11             [-1, 6]  1         0  ultralytics.nn.modules.conv.Concat           [1]                           \n",
      " 12                  -1  1    148224  ultralytics.nn.modules.block.C2f             [384, 128, 1]                 \n",
      " 13                  -1  1         0  torch.nn.modules.upsampling.Upsample         [None, 2, 'nearest']          \n",
      " 14             [-1, 4]  1         0  ultralytics.nn.modules.conv.Concat           [1]                           \n",
      " 15                  -1  1     37248  ultralytics.nn.modules.block.C2f             [192, 64, 1]                  \n",
      " 16                  -1  1     36992  ultralytics.nn.modules.conv.Conv             [64, 64, 3, 2]                \n",
      " 17            [-1, 12]  1         0  ultralytics.nn.modules.conv.Concat           [1]                           \n",
      " 18                  -1  1    123648  ultralytics.nn.modules.block.C2f             [192, 128, 1]                 \n",
      " 19                  -1  1    147712  ultralytics.nn.modules.conv.Conv             [128, 128, 3, 2]              \n",
      " 20             [-1, 9]  1         0  ultralytics.nn.modules.conv.Concat           [1]                           \n",
      " 21                  -1  1    493056  ultralytics.nn.modules.block.C2f             [384, 256, 1]                 \n",
      " 22        [15, 18, 21]  1    752287  ultralytics.nn.modules.head.Detect           [5, [64, 128, 256]]           \n",
      "YOLOv8n summary: 225 layers, 3011823 parameters, 3011807 gradients\n",
      "\n",
      "Transferred 355/355 items from pretrained weights\n",
      "\u001b[34m\u001b[1mTensorBoard: \u001b[0mStart with 'tensorboard --logdir runs/detect/train6', view at http://localhost:6006/\n",
      "\u001b[34m\u001b[1mAMP: \u001b[0mrunning Automatic Mixed Precision (AMP) checks with YOLOv8n...\n",
      "\u001b[34m\u001b[1mAMP: \u001b[0mchecks passed ✅\n",
      "\u001b[34m\u001b[1moptimizer:\u001b[0m SGD(lr=0.01) with parameter groups 57 weight(decay=0.0), 64 weight(decay=0.0005), 63 bias\n",
      "\u001b[34m\u001b[1mtrain: \u001b[0mScanning /content/drive/MyDrive/AI1/Yolov8/train/labels.cache... 1050 images, 0 backgrounds, 0 corrupt: 100%|██████████| 1050/1050 [00:00<?, ?it/s]\n",
      "\u001b[34m\u001b[1malbumentations: \u001b[0mBlur(p=0.01, blur_limit=(3, 7)), MedianBlur(p=0.01, blur_limit=(3, 7)), ToGray(p=0.01), CLAHE(p=0.01, clip_limit=(1, 4.0), tile_grid_size=(8, 8))\n",
      "\u001b[34m\u001b[1mval: \u001b[0mScanning /content/drive/MyDrive/AI1/Yolov8/valid/labels.cache... 300 images, 0 backgrounds, 0 corrupt: 100%|██████████| 300/300 [00:00<?, ?it/s]\n",
      "Plotting labels to runs/detect/train6/labels.jpg... \n",
      "Image sizes 416 train, 416 val\n",
      "Using 2 dataloader workers\n",
      "Logging results to \u001b[1mruns/detect/train6\u001b[0m\n",
      "Starting training for 1 epochs...\n",
      "\n",
      "      Epoch    GPU_mem   box_loss   cls_loss   dfl_loss  Instances       Size\n",
      "        1/1      2.29G     0.4642     0.5079     0.9112         56        416: 100%|██████████| 33/33 [01:00<00:00,  1.82s/it]\n",
      "                 Class     Images  Instances      Box(P          R      mAP50  mAP50-95): 100%|██████████| 5/5 [00:12<00:00,  2.46s/it]\n",
      "                   all        300        300      0.531      0.671      0.583      0.526\n",
      "\n",
      "1 epochs completed in 0.023 hours.\n",
      "Optimizer stripped from runs/detect/train6/weights/last.pt, 6.2MB\n",
      "Optimizer stripped from runs/detect/train6/weights/best.pt, 6.2MB\n",
      "\n",
      "Validating runs/detect/train6/weights/best.pt...\n",
      "Ultralytics YOLOv8.0.109 🚀 Python-3.10.11 torch-2.0.1+cu118 CUDA:0 (Tesla T4, 15102MiB)\n",
      "YOLOv8n summary (fused): 168 layers, 3006623 parameters, 0 gradients\n",
      "                 Class     Images  Instances      Box(P          R      mAP50  mAP50-95): 100%|██████████| 5/5 [00:11<00:00,  2.39s/it]\n",
      "                   all        300        300      0.532      0.673      0.583      0.525\n",
      "            Rock bream        300         63      0.783          1      0.993      0.943\n",
      "        Olive flounder        300        163      0.428      0.883      0.603       0.51\n",
      "           Black porgy        300         74      0.384      0.135      0.153      0.123\n",
      "Speed: 0.3ms preprocess, 0.9ms inference, 0.0ms loss, 2.9ms postprocess per image\n",
      "Results saved to \u001b[1mruns/detect/train6\u001b[0m\n"
     ]
    }
   ],
   "source": [
    "model.train(data='./data.yaml', epochs=1, batch=32)"
   ]
  },
  {
   "cell_type": "code",
   "execution_count": null,
   "metadata": {
    "colab": {
     "base_uri": "https://localhost:8080/"
    },
    "id": "ztPjKyF_WUSb",
    "outputId": "97a0032b-0b93-4113-b895-2f7bc504fc42"
   },
   "outputs": [
    {
     "name": "stderr",
     "output_type": "stream",
     "text": [
      "\n",
      "image 1/150 /content/drive/MyDrive/AI1/Yolov8/test/images/74949_objt_bp_2020-12-02_12-31-33-00_001.jpg: 256x416 (no detections), 102.6ms\n",
      "image 2/150 /content/drive/MyDrive/AI1/Yolov8/test/images/75325_objt_bp_2020-12-02_12-52-10-33_002.jpg: 256x416 (no detections), 15.4ms\n",
      "image 3/150 /content/drive/MyDrive/AI1/Yolov8/test/images/75326_objt_bp_2020-12-02_12-52-11-33_002.jpg: 256x416 (no detections), 9.3ms\n",
      "image 4/150 /content/drive/MyDrive/AI1/Yolov8/test/images/75333_objt_bp_2020-12-02_12-53-04-00_001.jpg: 256x416 (no detections), 9.7ms\n",
      "image 5/150 /content/drive/MyDrive/AI1/Yolov8/test/images/75338_objt_bp_2020-12-02_12-55-20-00_001.jpg: 256x416 (no detections), 12.8ms\n",
      "image 6/150 /content/drive/MyDrive/AI1/Yolov8/test/images/76625_objt_bp_2020-12-02_12-55-33-00_001.jpg: 256x416 (no detections), 8.7ms\n",
      "image 7/150 /content/drive/MyDrive/AI1/Yolov8/test/images/76640_objt_bp_2020-12-02_13-10-47-33_002.jpg: 256x416 (no detections), 12.9ms\n",
      "image 8/150 /content/drive/MyDrive/AI1/Yolov8/test/images/76651_objt_bp_2020-12-02_13-09-23-33_002.jpg: 256x416 (no detections), 8.8ms\n",
      "image 9/150 /content/drive/MyDrive/AI1/Yolov8/test/images/76657_objt_bp_2020-12-02_13-14-19-00_001.jpg: 256x416 1 Rock bream, 11.4ms\n",
      "image 10/150 /content/drive/MyDrive/AI1/Yolov8/test/images/76675_objt_bp_2020-12-02_13-13-41-33_002.jpg: 256x416 1 Rock bream, 7.0ms\n",
      "image 11/150 /content/drive/MyDrive/AI1/Yolov8/test/images/76682_objt_bp_2020-12-02_13-09-52-00_001.jpg: 256x416 1 Red seabream, 5.9ms\n",
      "image 12/150 /content/drive/MyDrive/AI1/Yolov8/test/images/76691_objt_bp_2020-12-02_13-09-50-00_001.jpg: 256x416 (no detections), 6.9ms\n",
      "image 13/150 /content/drive/MyDrive/AI1/Yolov8/test/images/76694_objt_bp_2020-12-02_13-10-00-66_006.jpg: 256x416 (no detections), 6.7ms\n",
      "image 14/150 /content/drive/MyDrive/AI1/Yolov8/test/images/76705_objt_bp_2020-12-02_13-16-21-66_003.jpg: 256x416 (no detections), 7.5ms\n",
      "image 15/150 /content/drive/MyDrive/AI1/Yolov8/test/images/76706_objt_bp_2020-12-02_13-10-57-66_003.jpg: 256x416 (no detections), 6.5ms\n",
      "image 16/150 /content/drive/MyDrive/AI1/Yolov8/test/images/76710_objt_bp_2020-12-02_13-17-32-33_002.jpg: 256x416 (no detections), 23.3ms\n",
      "image 17/150 /content/drive/MyDrive/AI1/Yolov8/test/images/76712_objt_bp_2020-12-02_13-15-01-33_002.jpg: 256x416 (no detections), 6.7ms\n",
      "image 18/150 /content/drive/MyDrive/AI1/Yolov8/test/images/76722_objt_bp_2020-12-02_13-10-59-66_003.jpg: 256x416 (no detections), 6.7ms\n",
      "image 19/150 /content/drive/MyDrive/AI1/Yolov8/test/images/76725_objt_bp_2020-12-02_13-15-21-33_002.jpg: 256x416 (no detections), 6.6ms\n",
      "image 20/150 /content/drive/MyDrive/AI1/Yolov8/test/images/76726_objt_bp_2020-12-02_13-15-01-00_001.jpg: 256x416 (no detections), 8.9ms\n",
      "image 21/150 /content/drive/MyDrive/AI1/Yolov8/test/images/76730_objt_bp_2020-12-02_13-11-00-33_005.jpg: 256x416 (no detections), 6.4ms\n",
      "image 22/150 /content/drive/MyDrive/AI1/Yolov8/test/images/76736_objt_bp_2020-12-02_13-11-29-66_003.jpg: 256x416 1 Rock bream, 31.5ms\n",
      "image 23/150 /content/drive/MyDrive/AI1/Yolov8/test/images/76739_objt_bp_2020-12-02_13-10-57-33_002.jpg: 256x416 (no detections), 6.4ms\n",
      "image 24/150 /content/drive/MyDrive/AI1/Yolov8/test/images/76740_objt_bp_2020-12-02_13-10-59-33_002.jpg: 256x416 (no detections), 6.3ms\n",
      "image 25/150 /content/drive/MyDrive/AI1/Yolov8/test/images/76769_objt_bp_2020-12-02_13-11-24-66_003.jpg: 256x416 (no detections), 6.2ms\n",
      "image 26/150 /content/drive/MyDrive/AI1/Yolov8/test/images/76770_objt_bp_2020-12-02_13-15-23-00_001.jpg: 256x416 (no detections), 6.2ms\n",
      "image 27/150 /content/drive/MyDrive/AI1/Yolov8/test/images/76771_objt_bp_2020-12-02_13-15-21-00_001.jpg: 256x416 (no detections), 7.6ms\n",
      "image 28/150 /content/drive/MyDrive/AI1/Yolov8/test/images/76805_objt_bp_2020-12-02_13-24-06-66_003.jpg: 256x416 (no detections), 7.7ms\n",
      "image 29/150 /content/drive/MyDrive/AI1/Yolov8/test/images/76819_objt_bp_2020-12-02_13-23-46-33_002.jpg: 256x416 1 Rock bream, 6.6ms\n",
      "image 30/150 /content/drive/MyDrive/AI1/Yolov8/test/images/76826_objt_bp_2020-12-02_13-24-31-66_003.jpg: 256x416 (no detections), 6.6ms\n",
      "image 31/150 /content/drive/MyDrive/AI1/Yolov8/test/images/76852_objt_bp_2020-12-02_13-17-54-66_003.jpg: 256x416 (no detections), 6.8ms\n",
      "image 32/150 /content/drive/MyDrive/AI1/Yolov8/test/images/76856_objt_bp_2020-12-02_13-22-23-33_002.jpg: 256x416 1 Rock bream, 6.2ms\n",
      "image 33/150 /content/drive/MyDrive/AI1/Yolov8/test/images/76862_objt_bp_2020-12-02_13-19-03-66_003.jpg: 256x416 (no detections), 6.2ms\n",
      "image 34/150 /content/drive/MyDrive/AI1/Yolov8/test/images/76881_objt_bp_2020-12-02_13-20-09-00_001.jpg: 256x416 (no detections), 6.1ms\n",
      "image 35/150 /content/drive/MyDrive/AI1/Yolov8/test/images/79723_objt_bp_2020-12-02_13-39-01-66_003.jpg: 256x416 1 Red seabream, 6.1ms\n",
      "image 36/150 /content/drive/MyDrive/AI1/Yolov8/test/images/79729_objt_bp_2020-12-02_13-36-52-66_003.jpg: 256x416 1 Red seabream, 8.1ms\n",
      "image 37/150 /content/drive/MyDrive/AI1/Yolov8/test/images/79730_objt_bp_2020-12-02_13-36-14-33_002.jpg: 256x416 1 Rock bream, 6.1ms\n",
      "image 38/150 /content/drive/MyDrive/AI1/Yolov8/test/images/79731_objt_bp_2020-12-02_13-36-15-33_002.jpg: 256x416 (no detections), 6.1ms\n",
      "image 39/150 /content/drive/MyDrive/AI1/Yolov8/test/images/79748_objt_bp_2020-12-02_13-37-06-33_002.jpg: 256x416 (no detections), 6.3ms\n",
      "image 40/150 /content/drive/MyDrive/AI1/Yolov8/test/images/79772_objt_bp_2020-12-02_13-34-51-66_003.jpg: 256x416 (no detections), 6.4ms\n",
      "image 41/150 /content/drive/MyDrive/AI1/Yolov8/test/images/79779_objt_bp_2020-12-02_13-37-12-33_002.jpg: 256x416 (no detections), 6.0ms\n",
      "image 42/150 /content/drive/MyDrive/AI1/Yolov8/test/images/81804_objt_bp_2020-12-02_13-35-35-00_001.jpg: 256x416 1 Korea rockfish, 1 Black porgy, 6.3ms\n",
      "image 43/150 /content/drive/MyDrive/AI1/Yolov8/test/images/81813_objt_bp_2020-12-02_13-36-53-66_003.jpg: 256x416 1 Korea rockfish, 1 Black porgy, 6.2ms\n",
      "image 44/150 /content/drive/MyDrive/AI1/Yolov8/test/images/81833_objt_bp_2020-12-02_13-35-35-33_002.jpg: 256x416 1 Black porgy, 6.2ms\n",
      "image 45/150 /content/drive/MyDrive/AI1/Yolov8/test/images/81837_objt_bp_2020-12-02_13-42-17-66_003.jpg: 256x416 (no detections), 12.4ms\n",
      "image 46/150 /content/drive/MyDrive/AI1/Yolov8/test/images/81838_objt_bp_2020-12-02_13-47-45-00_001.jpg: 256x416 1 Rock bream, 6.1ms\n",
      "image 47/150 /content/drive/MyDrive/AI1/Yolov8/test/images/81843_objt_bp_2020-12-02_13-41-50-66_003.jpg: 256x416 (no detections), 6.2ms\n",
      "image 48/150 /content/drive/MyDrive/AI1/Yolov8/test/images/81845_objt_bp_2020-12-02_13-47-44-66_003.jpg: 256x416 1 Rock bream, 6.3ms\n",
      "image 49/150 /content/drive/MyDrive/AI1/Yolov8/test/images/81850_objt_bp_2020-12-02_13-48-10-66_003.jpg: 256x416 1 Rock bream, 6.1ms\n",
      "image 50/150 /content/drive/MyDrive/AI1/Yolov8/test/images/81915_objt_bp_2020-12-02_13-42-30-00_001.jpg: 256x416 1 Red seabream, 6.3ms\n",
      "image 51/150 /content/drive/MyDrive/AI1/Yolov8/test/images/81939_objt_bp_2020-12-02_13-42-33-66_003.jpg: 256x416 (no detections), 6.5ms\n",
      "image 52/150 /content/drive/MyDrive/AI1/Yolov8/test/images/81949_objt_bp_2020-12-02_13-42-37-33_002.jpg: 256x416 (no detections), 6.1ms\n",
      "image 53/150 /content/drive/MyDrive/AI1/Yolov8/test/images/82565_objt_rs_2020-12-05_15-27-34-00_001.jpg: 256x416 1 Red seabream, 5.9ms\n",
      "image 54/150 /content/drive/MyDrive/AI1/Yolov8/test/images/82572_objt_rs_2020-12-05_15-09-08-00_001.jpg: 256x416 1 Red seabream, 8.9ms\n",
      "image 55/150 /content/drive/MyDrive/AI1/Yolov8/test/images/82586_objt_rs_2020-12-05_14-59-04-66_003.jpg: 256x416 1 Red seabream, 6.5ms\n",
      "image 56/150 /content/drive/MyDrive/AI1/Yolov8/test/images/82603_objt_rs_2020-12-05_15-04-31-00_001.jpg: 256x416 1 Red seabream, 6.1ms\n",
      "image 57/150 /content/drive/MyDrive/AI1/Yolov8/test/images/82608_objt_rs_2020-12-05_15-03-09-33_002.jpg: 256x416 1 Red seabream, 6.9ms\n",
      "image 58/150 /content/drive/MyDrive/AI1/Yolov8/test/images/82617_objt_rs_2020-12-05_14-59-07-33_002.jpg: 256x416 1 Red seabream, 6.2ms\n",
      "image 59/150 /content/drive/MyDrive/AI1/Yolov8/test/images/82618_objt_rs_2020-12-05_15-04-31-33_002.jpg: 256x416 1 Red seabream, 6.2ms\n",
      "image 60/150 /content/drive/MyDrive/AI1/Yolov8/test/images/82643_objt_rb_2020-12-05_15-11-32-00_001.jpg: 256x416 1 Red seabream, 6.5ms\n",
      "image 61/150 /content/drive/MyDrive/AI1/Yolov8/test/images/82647_objt_rb_2020-12-05_15-13-44-33_002.jpg: 256x416 1 Red seabream, 7.1ms\n",
      "image 62/150 /content/drive/MyDrive/AI1/Yolov8/test/images/82679_objt_rb_2020-12-05_15-12-00-00_004.jpg: 256x416 1 Red seabream, 12.0ms\n",
      "image 63/150 /content/drive/MyDrive/AI1/Yolov8/test/images/82694_objt_rb_2020-12-05_15-07-48-33_002.jpg: 256x416 1 Red seabream, 12.5ms\n",
      "image 64/150 /content/drive/MyDrive/AI1/Yolov8/test/images/82701_objt_rb_2020-12-05_15-14-19-66_003.jpg: 256x416 1 Red seabream, 12.3ms\n",
      "image 65/150 /content/drive/MyDrive/AI1/Yolov8/test/images/82742_objt_rs_2020-12-05_15-20-17-66_003.jpg: 256x416 1 Korea rockfish, 1 Red seabream, 8.3ms\n",
      "image 66/150 /content/drive/MyDrive/AI1/Yolov8/test/images/82761_objt_rs_2020-12-05_10-18-29-33_002.jpg: 256x416 1 Red seabream, 8.6ms\n",
      "image 67/150 /content/drive/MyDrive/AI1/Yolov8/test/images/82762_objt_rs_2020-12-05_10-18-00-66_002.jpg: 256x416 1 Red seabream, 8.6ms\n",
      "image 68/150 /content/drive/MyDrive/AI1/Yolov8/test/images/82765_objt_rs_2020-12-05_10-18-03-66_003.jpg: 256x416 1 Red seabream, 8.7ms\n",
      "image 69/150 /content/drive/MyDrive/AI1/Yolov8/test/images/82775_objt_rs_2020-12-05_10-19-06-00_001.jpg: 256x416 1 Red seabream, 8.6ms\n",
      "image 70/150 /content/drive/MyDrive/AI1/Yolov8/test/images/82779_objt_rs_2020-12-05_10-19-39-33_002.jpg: 256x416 1 Red seabream, 8.2ms\n",
      "image 71/150 /content/drive/MyDrive/AI1/Yolov8/test/images/83347_objt_rs_2020-12-05_10-39-37-33_002.jpg: 256x416 1 Red seabream, 8.6ms\n",
      "image 72/150 /content/drive/MyDrive/AI1/Yolov8/test/images/83399_objt_rs_2020-12-05_10-39-37-66_003.jpg: 256x416 1 Red seabream, 8.5ms\n",
      "image 73/150 /content/drive/MyDrive/AI1/Yolov8/test/images/83413_objt_rs_2020-12-05_10-48-01-66_003.jpg: 256x416 1 Red seabream, 7.9ms\n",
      "image 74/150 /content/drive/MyDrive/AI1/Yolov8/test/images/84562_objt_bp_2020-12-02_16-56-21-33_002.jpg: 256x416 (no detections), 10.8ms\n",
      "image 75/150 /content/drive/MyDrive/AI1/Yolov8/test/images/84581_objt_rs_2020-12-05_11-04-37-00_001.jpg: 256x416 1 Rock bream, 9.3ms\n",
      "image 76/150 /content/drive/MyDrive/AI1/Yolov8/test/images/84583_objt_rs_2020-12-05_11-03-16-33_002.jpg: 256x416 (no detections), 12.3ms\n",
      "image 77/150 /content/drive/MyDrive/AI1/Yolov8/test/images/84591_objt_rs_2020-12-05_11-03-16-66_003.jpg: 256x416 (no detections), 6.7ms\n",
      "image 78/150 /content/drive/MyDrive/AI1/Yolov8/test/images/84621_objt_rs_2020-12-05_11-08-50-33_002.jpg: 256x416 1 Red seabream, 8.8ms\n",
      "image 79/150 /content/drive/MyDrive/AI1/Yolov8/test/images/84626_objt_rs_2020-12-05_11-11-52-33_002.jpg: 256x416 1 Red seabream, 6.0ms\n",
      "image 80/150 /content/drive/MyDrive/AI1/Yolov8/test/images/84654_objt_rs_2020-12-05_11-10-00-00_004.jpg: 256x416 (no detections), 6.4ms\n",
      "image 81/150 /content/drive/MyDrive/AI1/Yolov8/test/images/84655_objt_rs_2020-12-05_11-08-23-00_001.jpg: 256x416 1 Red seabream, 7.5ms\n",
      "image 82/150 /content/drive/MyDrive/AI1/Yolov8/test/images/84657_objt_rs_2020-12-05_11-09-47-66_003.jpg: 256x416 1 Red seabream, 6.1ms\n",
      "image 83/150 /content/drive/MyDrive/AI1/Yolov8/test/images/84666_objt_rs_2020-12-05_11-11-29-33_002.jpg: 256x416 1 Rock bream, 1 Red seabream, 6.2ms\n",
      "image 84/150 /content/drive/MyDrive/AI1/Yolov8/test/images/84672_objt_rs_2020-12-05_11-13-24-33_002.jpg: 256x416 1 Rock bream, 1 Red seabream, 6.3ms\n",
      "image 85/150 /content/drive/MyDrive/AI1/Yolov8/test/images/84688_objt_rs_2020-12-05_11-16-23-33_002.jpg: 256x416 1 Rock bream, 1 Red seabream, 6.4ms\n",
      "image 86/150 /content/drive/MyDrive/AI1/Yolov8/test/images/84689_objt_rs_2020-12-05_11-08-38-33_002.jpg: 256x416 (no detections), 9.7ms\n",
      "image 87/150 /content/drive/MyDrive/AI1/Yolov8/test/images/84690_objt_rs_2020-12-05_11-13-35-00_001.jpg: 256x416 1 Red seabream, 6.9ms\n",
      "image 88/150 /content/drive/MyDrive/AI1/Yolov8/test/images/84714_objt_rs_2020-12-05_11-15-30-00_001.jpg: 256x416 1 Rock bream, 1 Red seabream, 6.6ms\n",
      "image 89/150 /content/drive/MyDrive/AI1/Yolov8/test/images/84788_objt_rs_2020-12-05_11-25-36-00_001.jpg: 256x416 1 Rock bream, 1 Red seabream, 6.4ms\n",
      "image 90/150 /content/drive/MyDrive/AI1/Yolov8/test/images/84796_objt_rs_2020-12-05_11-25-00-00_004.jpg: 256x416 1 Rock bream, 1 Red seabream, 6.5ms\n",
      "image 91/150 /content/drive/MyDrive/AI1/Yolov8/test/images/84800_objt_rs_2020-12-05_11-23-30-00_001.jpg: 256x416 1 Rock bream, 1 Red seabream, 6.4ms\n",
      "image 92/150 /content/drive/MyDrive/AI1/Yolov8/test/images/84812_objt_rs_2020-12-05_11-23-32-66_003.jpg: 256x416 1 Red seabream, 6.5ms\n",
      "image 93/150 /content/drive/MyDrive/AI1/Yolov8/test/images/84834_objt_rs_2020-12-05_11-25-01-00_001.jpg: 256x416 1 Red seabream, 7.3ms\n",
      "image 94/150 /content/drive/MyDrive/AI1/Yolov8/test/images/84848_objt_rs_2020-12-05_12-08-32-66_003.jpg: 256x416 1 Red seabream, 6.3ms\n",
      "image 95/150 /content/drive/MyDrive/AI1/Yolov8/test/images/84854_objt_rs_2020-12-05_12-15-02-66_003.jpg: 256x416 1 Red seabream, 6.4ms\n",
      "image 96/150 /content/drive/MyDrive/AI1/Yolov8/test/images/85122_objt_bp_2020-12-02_16-31-28-33_002.jpg: 256x416 1 Red seabream, 6.3ms\n",
      "image 97/150 /content/drive/MyDrive/AI1/Yolov8/test/images/85142_objt_rs_2020-12-05_16-23-04-33_002.jpg: 256x416 1 Red seabream, 6.0ms\n",
      "image 98/150 /content/drive/MyDrive/AI1/Yolov8/test/images/85161_objt_rs_2020-12-05_16-27-20-00_001.jpg: 256x416 1 Rock bream, 1 Red seabream, 6.1ms\n",
      "image 99/150 /content/drive/MyDrive/AI1/Yolov8/test/images/85163_objt_rs_2020-12-05_16-23-08-00_001.jpg: 256x416 1 Red seabream, 6.6ms\n",
      "image 100/150 /content/drive/MyDrive/AI1/Yolov8/test/images/85166_objt_rs_2020-12-05_16-23-43-00_001.jpg: 256x416 1 Red seabream, 6.3ms\n",
      "image 101/150 /content/drive/MyDrive/AI1/Yolov8/test/images/85170_objt_rs_2020-12-05_16-23-04-66_003.jpg: 256x416 1 Red seabream, 6.6ms\n",
      "image 102/150 /content/drive/MyDrive/AI1/Yolov8/test/images/85173_objt_rs_2020-12-05_16-24-47-00_001.jpg: 256x416 (no detections), 6.1ms\n",
      "image 103/150 /content/drive/MyDrive/AI1/Yolov8/test/images/85175_objt_rs_2020-12-05_16-27-20-33_002.jpg: 256x416 (no detections), 6.1ms\n",
      "image 104/150 /content/drive/MyDrive/AI1/Yolov8/test/images/85183_objt_rs_2020-12-05_16-23-09-00_001.jpg: 256x416 1 Red seabream, 6.3ms\n",
      "image 105/150 /content/drive/MyDrive/AI1/Yolov8/test/images/85184_objt_rs_2020-12-05_16-24-12-66_003.jpg: 256x416 1 Red seabream, 6.2ms\n",
      "image 106/150 /content/drive/MyDrive/AI1/Yolov8/test/images/85186_objt_rs_2020-12-05_16-27-09-66_003.jpg: 256x416 1 Red seabream, 5.9ms\n",
      "image 107/150 /content/drive/MyDrive/AI1/Yolov8/test/images/85195_objt_rs_2020-12-05_16-27-53-33_002.jpg: 256x416 2 Rock breams, 6.9ms\n",
      "image 108/150 /content/drive/MyDrive/AI1/Yolov8/test/images/85198_objt_rs_2020-12-05_16-27-19-33_002.jpg: 256x416 1 Rock bream, 1 Red seabream, 6.5ms\n",
      "image 109/150 /content/drive/MyDrive/AI1/Yolov8/test/images/85204_objt_rs_2020-12-05_16-27-08-33_002.jpg: 256x416 1 Rock bream, 6.3ms\n",
      "image 110/150 /content/drive/MyDrive/AI1/Yolov8/test/images/85206_objt_rs_2020-12-05_16-28-02-00_001.jpg: 256x416 2 Rock breams, 6.6ms\n",
      "image 111/150 /content/drive/MyDrive/AI1/Yolov8/test/images/85208_objt_rs_2020-12-05_16-28-45-33_002.jpg: 256x416 1 Rock bream, 1 Red seabream, 6.1ms\n",
      "image 112/150 /content/drive/MyDrive/AI1/Yolov8/test/images/85241_objt_rs_2020-12-05_16-34-44-33_002.jpg: 256x416 1 Red seabream, 12.4ms\n",
      "image 113/150 /content/drive/MyDrive/AI1/Yolov8/test/images/85250_objt_rs_2020-12-05_16-33-43-00_001.jpg: 256x416 1 Red seabream, 6.5ms\n",
      "image 114/150 /content/drive/MyDrive/AI1/Yolov8/test/images/85252_objt_rs_2020-12-05_16-39-58-66_003.jpg: 256x416 1 Red seabream, 7.0ms\n",
      "image 115/150 /content/drive/MyDrive/AI1/Yolov8/test/images/85255_objt_rs_2020-12-05_16-34-42-66_003.jpg: 256x416 1 Red seabream, 6.3ms\n",
      "image 116/150 /content/drive/MyDrive/AI1/Yolov8/test/images/85256_objt_rs_2020-12-05_16-34-43-66_003.jpg: 256x416 1 Red seabream, 7.8ms\n",
      "image 117/150 /content/drive/MyDrive/AI1/Yolov8/test/images/85260_objt_rs_2020-12-05_16-32-53-66_003.jpg: 256x416 1 Red seabream, 6.6ms\n",
      "image 118/150 /content/drive/MyDrive/AI1/Yolov8/test/images/85265_objt_rs_2020-12-05_16-38-31-66_003.jpg: 256x416 1 Red seabream, 7.3ms\n",
      "image 119/150 /content/drive/MyDrive/AI1/Yolov8/test/images/85267_objt_rs_2020-12-05_16-37-34-66_003.jpg: 256x416 1 Red seabream, 6.8ms\n",
      "image 120/150 /content/drive/MyDrive/AI1/Yolov8/test/images/85276_objt_rs_2020-12-05_16-40-23-33_002.jpg: 256x416 1 Red seabream, 6.0ms\n",
      "image 121/150 /content/drive/MyDrive/AI1/Yolov8/test/images/85292_objt_rs_2020-12-05_16-34-45-00_001.jpg: 256x416 1 Red seabream, 6.6ms\n",
      "image 122/150 /content/drive/MyDrive/AI1/Yolov8/test/images/85300_objt_rs_2020-12-05_16-33-37-66_003.jpg: 256x416 1 Red seabream, 6.2ms\n",
      "image 123/150 /content/drive/MyDrive/AI1/Yolov8/test/images/85304_objt_rs_2020-12-05_16-38-31-33_002.jpg: 256x416 1 Rock bream, 1 Red seabream, 6.6ms\n",
      "image 124/150 /content/drive/MyDrive/AI1/Yolov8/test/images/85322_objt_rs_2020-12-05_16-37-45-66_003.jpg: 256x416 1 Red seabream, 6.2ms\n",
      "image 125/150 /content/drive/MyDrive/AI1/Yolov8/test/images/88140_objt_bp_2020-12-08_09-39-51-33_002.jpg: 256x416 1 Red seabream, 7.2ms\n",
      "image 126/150 /content/drive/MyDrive/AI1/Yolov8/test/images/88158_objt_bp_2020-12-08_09-41-31-66_003.jpg: 256x416 1 Red seabream, 6.3ms\n",
      "image 127/150 /content/drive/MyDrive/AI1/Yolov8/test/images/88177_objt_bp_2020-12-08_09-36-44-33_002.jpg: 256x416 1 Red seabream, 6.3ms\n",
      "image 128/150 /content/drive/MyDrive/AI1/Yolov8/test/images/88180_objt_bp_2020-12-08_09-37-35-66_003.jpg: 256x416 1 Red seabream, 6.6ms\n",
      "image 129/150 /content/drive/MyDrive/AI1/Yolov8/test/images/88190_objt_bp_2020-12-08_09-37-22-33_002.jpg: 256x416 1 Red seabream, 6.6ms\n",
      "image 130/150 /content/drive/MyDrive/AI1/Yolov8/test/images/88217_objt_bp_2020-12-08_09-37-04-00_001.jpg: 256x416 1 Red seabream, 10.2ms\n",
      "image 131/150 /content/drive/MyDrive/AI1/Yolov8/test/images/88220_objt_bp_2020-12-08_09-38-27-66_003.jpg: 256x416 1 Red seabream, 8.3ms\n",
      "image 132/150 /content/drive/MyDrive/AI1/Yolov8/test/images/88241_objt_bp_2020-12-08_11-38-05-66_003.jpg: 256x416 1 Red seabream, 11.5ms\n",
      "image 133/150 /content/drive/MyDrive/AI1/Yolov8/test/images/88270_objt_bp_2020-12-08_11-46-39-33_002.jpg: 256x416 1 Red seabream, 8.4ms\n",
      "image 134/150 /content/drive/MyDrive/AI1/Yolov8/test/images/88275_objt_bp_2020-12-08_09-35-51-33_002.jpg: 256x416 1 Korea rockfish, 1 Black porgy, 9.0ms\n",
      "image 135/150 /content/drive/MyDrive/AI1/Yolov8/test/images/88289_objt_bp_2020-12-08_11-45-54-66_003.jpg: 256x416 1 Korea rockfish, 1 Red seabream, 1 Black porgy, 8.6ms\n",
      "image 136/150 /content/drive/MyDrive/AI1/Yolov8/test/images/88295_objt_bp_2020-12-08_09-33-16-66_003.jpg: 256x416 1 Red seabream, 10.7ms\n",
      "image 137/150 /content/drive/MyDrive/AI1/Yolov8/test/images/88297_objt_bp_2020-12-08_09-41-26-66_003.jpg: 256x416 1 Red seabream, 8.1ms\n",
      "image 138/150 /content/drive/MyDrive/AI1/Yolov8/test/images/88318_objt_bp_2020-12-08_11-43-38-33_002.jpg: 256x416 1 Red seabream, 1 Black porgy, 8.6ms\n",
      "image 139/150 /content/drive/MyDrive/AI1/Yolov8/test/images/88319_objt_bp_2020-12-08_11-42-28-66_003.jpg: 256x416 1 Red seabream, 9.7ms\n",
      "image 140/150 /content/drive/MyDrive/AI1/Yolov8/test/images/88331_objt_bp_2020-12-08_11-45-37-66_003.jpg: 256x416 1 Red seabream, 11.6ms\n",
      "image 141/150 /content/drive/MyDrive/AI1/Yolov8/test/images/88465_objt_bp_2020-12-08_11-51-32-66_003.jpg: 256x416 1 Red seabream, 10.3ms\n",
      "image 142/150 /content/drive/MyDrive/AI1/Yolov8/test/images/88491_objt_bp_2020-12-08_11-53-06-66_003.jpg: 256x416 1 Korea rockfish, 2 Red seabreams, 8.8ms\n",
      "image 143/150 /content/drive/MyDrive/AI1/Yolov8/test/images/88493_objt_bp_2020-12-08_11-56-11-33_002.jpg: 256x416 1 Korea rockfish, 8.8ms\n",
      "image 144/150 /content/drive/MyDrive/AI1/Yolov8/test/images/88496_objt_bp_2020-12-08_11-52-34-33_002.jpg: 256x416 1 Red seabream, 10.3ms\n",
      "image 145/150 /content/drive/MyDrive/AI1/Yolov8/test/images/88591_objt_bp_2020-12-08_11-58-53-33_002.jpg: 256x416 1 Red seabream, 8.4ms\n",
      "image 146/150 /content/drive/MyDrive/AI1/Yolov8/test/images/88593_objt_bp_2020-12-08_11-57-44-66_003.jpg: 256x416 1 Red seabream, 11.2ms\n",
      "image 147/150 /content/drive/MyDrive/AI1/Yolov8/test/images/88609_objt_bp_2020-12-08_11-59-05-00_001.jpg: 256x416 1 Korea rockfish, 2 Red seabreams, 9.9ms\n",
      "image 148/150 /content/drive/MyDrive/AI1/Yolov8/test/images/88613_objt_bp_2020-12-08_12-01-28-33_002.jpg: 256x416 1 Red seabream, 7.9ms\n",
      "image 149/150 /content/drive/MyDrive/AI1/Yolov8/test/images/88621_objt_bp_2020-12-08_11-57-45-33_002.jpg: 256x416 1 Red seabream, 6.6ms\n",
      "image 150/150 /content/drive/MyDrive/AI1/Yolov8/test/images/88631_objt_bp_2020-12-08_12-01-07-66_003.jpg: 256x416 2 Red seabreams, 7.8ms\n",
      "Speed: 1.5ms preprocess, 8.5ms inference, 1.9ms postprocess per image at shape (1, 3, 416, 416)\n",
      "Results saved to \u001b[1mruns/detect/predict\u001b[0m\n"
     ]
    }
   ],
   "source": [
    "results = model.predict(source='/content/drive/MyDrive/AI1/Yolov8/test/images', save=True)"
   ]
  },
  {
   "cell_type": "code",
   "execution_count": null,
   "metadata": {
    "id": "V-2C1tS3xfGt"
   },
   "outputs": [],
   "source": []
  }
 ],
 "metadata": {
  "accelerator": "GPU",
  "colab": {
   "gpuType": "T4",
   "provenance": []
  },
  "kernelspec": {
   "display_name": "Python 3 (ipykernel)",
   "language": "python",
   "name": "python3"
  },
  "language_info": {
   "codemirror_mode": {
    "name": "ipython",
    "version": 3
   },
   "file_extension": ".py",
   "mimetype": "text/x-python",
   "name": "python",
   "nbconvert_exporter": "python",
   "pygments_lexer": "ipython3",
   "version": "3.10.9"
  }
 },
 "nbformat": 4,
 "nbformat_minor": 1
}
