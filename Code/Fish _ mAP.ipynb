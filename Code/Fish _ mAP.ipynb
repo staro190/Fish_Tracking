{
 "cells": [
  {
   "cell_type": "markdown",
   "id": "a0bc4ef7",
   "metadata": {},
   "source": [
    "# mAP Caluculate"
   ]
  },
  {
   "cell_type": "markdown",
   "id": "0972b26d",
   "metadata": {},
   "source": [
    "## Yolov8 Predict"
   ]
  },
  {
   "cell_type": "code",
   "execution_count": null,
   "id": "ef7861c7",
   "metadata": {},
   "outputs": [],
   "source": [
    "import os\n",
    "from ultralytics import YOLO\n",
    "\n",
    "model = YOLO('C:/Users/AI-Testing-Laptop1/runs/detect_bef/train5/weights/best.pt')\n",
    "\n",
    "os.environ['KMP_DUPLICATE_LIB_OK']='True'\n",
    "\n",
    "#test_img1 ~ 9 Memory issue로 9번 나눠서 돌려야함\n",
    "result = model.predict(source='C:/Users/AI-Testing-Laptop1/Yolov8/test/test_img9/',save=True, save_txt=True, save_conf=True)"
   ]
  },
  {
   "cell_type": "markdown",
   "id": "6b63eae4",
   "metadata": {},
   "source": [
    "## Result convert to List"
   ]
  },
  {
   "cell_type": "code",
   "execution_count": 3,
   "id": "3d69c98b",
   "metadata": {},
   "outputs": [
    {
     "name": "stdout",
     "output_type": "stream",
     "text": [
      "9884\n",
      "9884\n",
      "9884\n"
     ]
    }
   ],
   "source": [
    "import os\n",
    " \n",
    "pred_dir = 'C:/Users/AI-Testing-Laptop1/runs/detect/predict/labels'\n",
    "true_dir = 'C:/Users/AI-Testing-Laptop1/Yolov8/test/labels'\n",
    " \n",
    "file_list = os.listdir(pred_dir)\n",
    "\n",
    "print(len(file_list))\n",
    "\n",
    "preds = []\n",
    "\n",
    "for name in file_list:\n",
    "    f = open(pred_dir+'/'+name, 'r')\n",
    "    lines = f.readlines()\n",
    "    for line in lines:\n",
    "        temp = line.split()\n",
    "        temp[0] = int(temp[0])\n",
    "        for i in range(5):\n",
    "            temp[i+1] = float(temp[i+1])\n",
    "    preds.append(temp)\n",
    "    f.close()\n",
    "    \n",
    "print(len(preds))\n",
    "\n",
    "trues = []\n",
    "for name in file_list:\n",
    "    f = open(true_dir+'/'+name, 'r')\n",
    "    lines = f.readlines()\n",
    "    for line in lines:\n",
    "        temp = line.split()\n",
    "        temp[0] = int(temp[0])\n",
    "        for i in range(4):\n",
    "            temp[i+1] = float(temp[i+1])\n",
    "    trues.append(temp)\n",
    "    f.close()\n",
    "    \n",
    "print(len(trues))"
   ]
  },
  {
   "cell_type": "markdown",
   "id": "147800f7",
   "metadata": {},
   "source": [
    "## IoU Calcuate and conf-tp extract"
   ]
  },
  {
   "cell_type": "code",
   "execution_count": 4,
   "id": "1f47e130",
   "metadata": {},
   "outputs": [
    {
     "name": "stdout",
     "output_type": "stream",
     "text": [
      "9236\n"
     ]
    }
   ],
   "source": [
    "import pandas as pd\n",
    "\n",
    "tp_list = []\n",
    "fp_list = []\n",
    "confidence = []\n",
    "\n",
    "account = 0\n",
    "\n",
    "threshold = 0.95\n",
    "\n",
    "for k in range(5):\n",
    " \n",
    "    tmp_conf = []\n",
    "    tmp_tp = []\n",
    "    tmp_fp = []\n",
    "    \n",
    "    for i in range(len(preds)):\n",
    "        \n",
    "        if trues[i][0] == k:\n",
    "            pred_box = []\n",
    "            pred_box.append(preds[i][1]-preds[i][3]/2) #p_x_min\n",
    "            pred_box.append(preds[i][1]+preds[i][3]/2) #p_x_max\n",
    "            pred_box.append(preds[i][2]-preds[i][4]/2) #p_y_min\n",
    "            pred_box.append(preds[i][2]+preds[i][4]/2) #p_y_max\n",
    "\n",
    "            true_box = []\n",
    "            true_box.append(trues[i][1]-trues[i][3]/2) #t_x_min\n",
    "            true_box.append(trues[i][1]+trues[i][3]/2) #t_x_max\n",
    "            true_box.append(trues[i][2]-trues[i][4]/2) #t_y_min\n",
    "            true_box.append(trues[i][2]+trues[i][4]/2) #t_y_max\n",
    "\n",
    "            intersection_x_length = (min(pred_box[1], true_box[1]) - max(pred_box[0], true_box[0]))\n",
    "            intersection_y_length = (min(pred_box[3], true_box[3]) - max(pred_box[2], true_box[2]))\n",
    "\n",
    "            pred_box_x_length = (pred_box[1] - pred_box[0])\n",
    "            pred_box_y_length = (pred_box[3] - pred_box[2])\n",
    "\n",
    "            true_box_x_length = (true_box[1] - true_box[0])\n",
    "            true_box_y_length = (true_box[3] - true_box[2])\n",
    "\n",
    "            intersect_area = intersection_x_length * intersection_y_length\n",
    "            union_area = pred_box_x_length * pred_box_y_length + true_box_x_length * true_box_y_length - intersect_area\n",
    "            iou_value = intersect_area/union_area\n",
    "\n",
    "            account += 1 if (preds[i][0]==trues[i][0]) else 0\n",
    "            tmp_var = 1 if (iou_value>threshold and preds[i][0]==trues[i][0]) else 0\n",
    "            tmp_tp.append(tmp_var)\n",
    "            tmp_fp.append(1 - tmp_var)\n",
    "\n",
    "            tmp_conf.append(preds[i][5])\n",
    "            \n",
    "    tp_list.append(tmp_tp)\n",
    "    fp_list.append(tmp_fp)\n",
    "    confidence.append(tmp_conf)\n",
    "\n",
    "print(account)\n",
    "    \n",
    "dfs = []\n",
    "\n",
    "for k in range(5):\n",
    "    df = pd.DataFrame({'conf':confidence[k],'tp':tp_list[k],'fp':fp_list[k]}) \n",
    "    dfs.append(df)\n",
    "    dfs[k] = dfs[k].sort_values('conf',ascending = False)\n",
    "    \n",
    "for k in range(5):\n",
    "    \n",
    "    tp_acc = []\n",
    "    fp_acc = []\n",
    "    tp_sum = 0\n",
    "    fp_sum = 0\n",
    "    precision = []\n",
    "    recall = []\n",
    "    \n",
    "    for i in range(len(confidence[k])):\n",
    "        tp_sum = tp_sum + dfs[k].loc[i][1]\n",
    "        tp_acc.append(tp_sum)\n",
    "        fp_sum = fp_sum + dfs[k].loc[i][2]\n",
    "        fp_acc.append(fp_sum)\n",
    "        precision.append(tp_sum/(i+1))\n",
    "        recall.append(tp_sum/len(confidence[k]))\n",
    "\n",
    "    dfs[k]['acc tp'] = tp_acc\n",
    "    dfs[k]['acc fp'] = fp_acc\n",
    "    dfs[k]['precision'] = precision\n",
    "    dfs[k]['recall'] = recall\n"
   ]
  },
  {
   "cell_type": "markdown",
   "id": "d3f06242",
   "metadata": {},
   "source": [
    "## Sklearn AP cal, mAP cal"
   ]
  },
  {
   "cell_type": "code",
   "execution_count": null,
   "id": "4b0369f8",
   "metadata": {},
   "outputs": [],
   "source": [
    "%matplotlib inline \n",
    "import numpy as np\n",
    "import matplotlib.pyplot as plt\n",
    "from sklearn.metrics import average_precision_score, precision_recall_curve\n",
    "\n",
    "names = ['Rock bream','Olive flounder','Korea rockfish','Red seabream','Black porgy']\n",
    "\n",
    "aps = []\n",
    "\n",
    "for k in range(5):\n",
    "\n",
    "    truths = np.array(dfs[k]['tp'])\n",
    "    scores = np.array(dfs[k]['conf'])\n",
    "\n",
    "    ap = average_precision_score(truths, scores)\n",
    "    ap_r = int(ap*1000)/1000\n",
    "    aps.append(ap_r)\n",
    "    print(names[k] + '클래스의 평균 정밀도(AP)는 '+str(ap_r)+'입니다.')\n",
    "\n",
    "    precision, recall, _ = precision_recall_curve(truths, scores)\n",
    "    plt.plot(recall, precision,lw=2)\n",
    "    plt.xlabel('Recall')\n",
    "    plt.ylabel('Precision')\n",
    "    plt.title('Precision-recall curve')\n",
    "    plt.ylim([0.0, 1.05])\n",
    "    plt.xlim([0.0, 1.0])\n",
    "    plt.legend(loc='lower left')\n",
    "    plt.savefig('prcurve.png')\n",
    "    plt.show()\n",
    "    \n",
    "print('IoU가 ' + str(threshold) + '보다 클 때 mAP 는 ' + str(int(sum(aps)*200)/1000))"
   ]
  }
 ],
 "metadata": {
  "kernelspec": {
   "display_name": "yolov8",
   "language": "python",
   "name": "yolov8"
  },
  "language_info": {
   "codemirror_mode": {
    "name": "ipython",
    "version": 3
   },
   "file_extension": ".py",
   "mimetype": "text/x-python",
   "name": "python",
   "nbconvert_exporter": "python",
   "pygments_lexer": "ipython3",
   "version": "3.10.11"
  }
 },
 "nbformat": 4,
 "nbformat_minor": 5
}
