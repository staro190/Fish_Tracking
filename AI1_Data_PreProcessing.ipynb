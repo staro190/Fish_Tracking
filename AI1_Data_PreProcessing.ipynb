{
 "cells": [
  {
   "cell_type": "markdown",
   "metadata": {
    "id": "Ixclhm-Vcb4I"
   },
   "source": [
    "# 데이터 전처리"
   ]
  },
  {
   "cell_type": "markdown",
   "metadata": {
    "id": "n3wOy9FgckOD"
   },
   "source": [
    "## Library Import"
   ]
  },
  {
   "cell_type": "code",
   "execution_count": 29,
   "metadata": {
    "id": "GwHAs5cuclu9"
   },
   "outputs": [],
   "source": [
    "import numpy as np\n",
    "import pandas as pd\n",
    "import json\n",
    "import os\n",
    "from tqdm import tqdm\n",
    "\n",
    "# 경고문구 주석처리\n",
    "import warnings\n",
    "warnings.filterwarnings(action='ignore')\n",
    "\n",
    "import shutil\n",
    "import yaml"
   ]
  },
  {
   "cell_type": "markdown",
   "metadata": {
    "id": "D3OdDcrJcmEp"
   },
   "source": [
    "## Local Connect"
   ]
  },
  {
   "cell_type": "code",
   "execution_count": 30,
   "metadata": {
    "colab": {
     "base_uri": "https://localhost:8080/",
     "height": 223
    },
    "id": "1G6zSTQJcoMz",
    "outputId": "60909f00-0b8f-4d07-e562-f72ff171a328"
   },
   "outputs": [
    {
     "name": "stdout",
     "output_type": "stream",
     "text": [
      "[WinError 3] 지정된 경로를 찾을 수 없습니다: './Fish_Sample/Training'\n",
      "C:\\Users\\AI-Testing-Laptop1\\Yolov8\\Fish_Sample\\Training\n"
     ]
    }
   ],
   "source": [
    "%cd ./Fish_Sample/Training"
   ]
  },
  {
   "cell_type": "markdown",
   "metadata": {},
   "source": [
    " # Data Preprocessing"
   ]
  },
  {
   "cell_type": "code",
   "execution_count": 31,
   "metadata": {
    "id": "KcliQXcdgRHb"
   },
   "outputs": [],
   "source": [
    "def file_to_data(path) :\n",
    "    with open(path, 'r', encoding='UTF-8') as f :\n",
    "        return json.load(f)\n",
    "# json load 함수 "
   ]
  },
  {
   "cell_type": "code",
   "execution_count": 11,
   "metadata": {},
   "outputs": [],
   "source": [
    "directory = './labels'\n",
    "try :\n",
    "    if not os.path.exists(directory) :\n",
    "        os.makedirs(directory)\n",
    "except OSError :\n",
    "    print('Error : Creat Directory.')\n",
    "# 디렉토리 체크"
   ]
  },
  {
   "cell_type": "code",
   "execution_count": 43,
   "metadata": {
    "colab": {
     "base_uri": "https://localhost:8080/",
     "height": 443
    },
    "id": "PlwlX-RhfS9A",
    "outputId": "5375b743-8854-49f1-9646-70f55abd32b6",
    "scrolled": false
   },
   "outputs": [
    {
     "name": "stdout",
     "output_type": "stream",
     "text": [
      "dtset1\n"
     ]
    },
    {
     "name": "stderr",
     "output_type": "stream",
     "text": [
      "IOPub data rate exceeded.\n",
      "The notebook server will temporarily stop sending output\n",
      "to the client in order to avoid crashing it.\n",
      "To change this limit, set the config variable\n",
      "`--NotebookApp.iopub_data_rate_limit`.\n",
      "\n",
      "Current values:\n",
      "NotebookApp.iopub_data_rate_limit=1000000.0 (bytes/sec)\n",
      "NotebookApp.rate_limit_window=3.0 (secs)\n",
      "\n",
      "100%|███████████████████████████████████████████████████████████████████████| 100400/100400 [00:02<00:00, 38109.67it/s]\n"
     ]
    },
    {
     "name": "stdout",
     "output_type": "stream",
     "text": [
      "dtset2\n"
     ]
    },
    {
     "name": "stderr",
     "output_type": "stream",
     "text": [
      "IOPub data rate exceeded.\n",
      "The notebook server will temporarily stop sending output\n",
      "to the client in order to avoid crashing it.\n",
      "To change this limit, set the config variable\n",
      "`--NotebookApp.iopub_data_rate_limit`.\n",
      "\n",
      "Current values:\n",
      "NotebookApp.iopub_data_rate_limit=1000000.0 (bytes/sec)\n",
      "NotebookApp.rate_limit_window=3.0 (secs)\n",
      "\n",
      "100%|███████████████████████████████████████████████████████████████████████| 100400/100400 [00:02<00:00, 37890.75it/s]\n"
     ]
    },
    {
     "name": "stdout",
     "output_type": "stream",
     "text": [
      "dtset3\n"
     ]
    },
    {
     "name": "stderr",
     "output_type": "stream",
     "text": [
      "IOPub data rate exceeded.\n",
      "The notebook server will temporarily stop sending output\n",
      "to the client in order to avoid crashing it.\n",
      "To change this limit, set the config variable\n",
      "`--NotebookApp.iopub_data_rate_limit`.\n",
      "\n",
      "Current values:\n",
      "NotebookApp.iopub_data_rate_limit=1000000.0 (bytes/sec)\n",
      "NotebookApp.rate_limit_window=3.0 (secs)\n",
      "\n",
      "100%|███████████████████████████████████████████████████████████████████████| 100400/100400 [00:02<00:00, 39691.37it/s]\n"
     ]
    },
    {
     "name": "stdout",
     "output_type": "stream",
     "text": [
      "dtset4\n"
     ]
    },
    {
     "name": "stderr",
     "output_type": "stream",
     "text": [
      "IOPub data rate exceeded.\n",
      "The notebook server will temporarily stop sending output\n",
      "to the client in order to avoid crashing it.\n",
      "To change this limit, set the config variable\n",
      "`--NotebookApp.iopub_data_rate_limit`.\n",
      "\n",
      "Current values:\n",
      "NotebookApp.iopub_data_rate_limit=1000000.0 (bytes/sec)\n",
      "NotebookApp.rate_limit_window=3.0 (secs)\n",
      "\n",
      "100%|███████████████████████████████████████████████████████████████████████| 100400/100400 [00:02<00:00, 38637.16it/s]\n"
     ]
    }
   ],
   "source": [
    "json_file_list = [file for file in os.listdir('./labels/') if file.endswith('.json')]\n",
    "# json 파일 리스트 생성\n",
    "\n",
    "for json_file in json_file_list :\n",
    "    \n",
    "    classes = {}\n",
    "    \n",
    "    dt_name = json_file[-11:-5]\n",
    "    print(dt_name)\n",
    "\n",
    "    data = file_to_data('C:/Users/AI-Testing-Laptop1/Yolov8/Fish_Sample/Training/labels/' + json_file)\n",
    "    print(data)\n",
    "    for category in data['categories'] :\n",
    "        if category['id'] == 5 :\n",
    "            category['id'] = 0\n",
    "        classes[category['id']] = category['name']\n",
    "    \n",
    "    nc = len(classes.keys())\n",
    "    \n",
    "    data['images'] = data['images']\n",
    "\n",
    "    for i in tqdm(range(len(data['images']))) :\n",
    "        img_data = data['images'][i]\n",
    "        annotation_data = data['annotations'][i]\n",
    "        \n",
    "        img_path = f\"./{dt_name}/{img_data['file_name'][2:]}\"\n",
    "        \n",
    "        if not os.path.exists(img_path) :\n",
    "            continue\n",
    "\n",
    "        assert img_data['id'] == annotation_data['image_id']\n",
    "\n",
    "        file_name = img_data['file_name'][2:-4]\n",
    "\n",
    "        id = annotation_data['category_id']\n",
    "    \n",
    "        if id == 5 : \n",
    "            id = 0\n",
    "        \n",
    "        id = str(id)\n",
    "    \n",
    "        bbox = annotation_data['bbox']\n",
    "        x_center = bbox[0]+(bbox[2]/2)\n",
    "        y_center = bbox[1]+(bbox[3]/2)\n",
    "\n",
    "        bbox[0] = x_center / img_data['width']\n",
    "        bbox[1] = y_center / img_data['height']\n",
    "        bbox[2] = bbox[2] / img_data['width']\n",
    "        bbox[3] = bbox[3] / img_data['height']\n",
    "        \n",
    "        xywh = bbox\n",
    "        xywh = list(map(str, xywh))\n",
    "        content = f'{id} {\" \".join(xywh)}'\n",
    "        with open(f\"{directory}/{img_data['file_name'][:-4]}.TXT\", 'w') as f :\n",
    "            f.write(content)"
   ]
  },
  {
   "cell_type": "code",
   "execution_count": 13,
   "metadata": {
    "id": "oSRWm3cM-z81"
   },
   "outputs": [
    {
     "data": {
      "text/plain": [
       "['gbt_fish_dtset1.json',\n",
       " 'gbt_fish_dtset2.json',\n",
       " 'gbt_fish_dtset3.json',\n",
       " 'gbt_fish_dtset4.json']"
      ]
     },
     "execution_count": 13,
     "metadata": {},
     "output_type": "execute_result"
    }
   ],
   "source": [
    "label_file_list = os.listdir(directory)\n",
    "label_file_list"
   ]
  },
  {
   "cell_type": "code",
   "execution_count": 7,
   "metadata": {},
   "outputs": [
    {
     "name": "stdout",
     "output_type": "stream",
     "text": [
      "Train : 1050, Validation : 300, Test : 150\n"
     ]
    }
   ],
   "source": [
    "VAL_RATIO = 0.2\n",
    "TEST_RATIO = 0.1\n",
    "\n",
    "all_len = len(label_file_list)\n",
    "val_len = round(all_len * VAL_RATIO)\n",
    "test_len = round(all_len * TEST_RATIO)\n",
    "train_len = all_len - (val_len + test_len)\n",
    "val_start_idx = train_len\n",
    "test_start_idx = val_start_idx+val_len\n",
    "\n",
    "print(f\"Train : {train_len}, Validation : {val_len}, Test : {test_len}\")"
   ]
  },
  {
   "cell_type": "code",
   "execution_count": 8,
   "metadata": {},
   "outputs": [],
   "source": [
    "dir_1_arr = ['train', 'valid', 'test']\n",
    "dir_2_arr = ['images', 'labels']\n",
    "for dir_1 in dir_1_arr :\n",
    "    for dir_2 in dir_2_arr :\n",
    "        try :\n",
    "            dir_final = f\"./Yolov8/{dir_1}/{dir_2}\"\n",
    "            if not os.path.exists(dir_final) :\n",
    "                os.makedirs(dir_final)\n",
    "        except OSError :\n",
    "            print('Error : Creat Directory.')"
   ]
  },
  {
   "cell_type": "code",
   "execution_count": 9,
   "metadata": {},
   "outputs": [
    {
     "name": "stderr",
     "output_type": "stream",
     "text": [
      "1500it [00:18, 83.32it/s]\n"
     ]
    }
   ],
   "source": [
    "for i, label in tqdm(enumerate(label_file_list)) :\n",
    "    \n",
    "    if i < val_start_idx :\n",
    "        new_directory = f\"./Yolov8/{dir_1_arr[0]}\"\n",
    "    elif i < test_start_idx :\n",
    "        new_directory = f\"./Yolov8/{dir_1_arr[1]}\"\n",
    "    else :\n",
    "        new_directory = f\"./Yolov8/{dir_1_arr[2]}\"\n",
    "    \n",
    "    file_name = label[:-4]\n",
    "    \n",
    "    shutil.copyfile(f\"./dtset1/{file_name}.JPG\", f\"{new_directory}/images/{file_name}.jpg\")\n",
    "    shutil.copyfile(f\"./labels/{file_name}.TXT\", f\"{new_directory}/labels/{file_name}.txt\")"
   ]
  },
  {
   "cell_type": "code",
   "execution_count": 10,
   "metadata": {},
   "outputs": [
    {
     "name": "stdout",
     "output_type": "stream",
     "text": [
      "C:\\Users\\david\\AI1\\Fish_Sample\\Training\\Yolov8\n"
     ]
    }
   ],
   "source": [
    "%cd ./Yolov8"
   ]
  },
  {
   "cell_type": "code",
   "execution_count": 11,
   "metadata": {},
   "outputs": [
    {
     "data": {
      "text/plain": [
       "{'names': {0: 'Rock bream',\n",
       "  1: 'Olive flounder',\n",
       "  2: 'Korea rockfish',\n",
       "  3: 'Red seabream',\n",
       "  4: 'Black porgy'},\n",
       " 'nc': 5,\n",
       " 'train': '/content/drive/MyDrive/AI1/Yolov8/train/images',\n",
       " 'val': '/content/drive/MyDrive/AI1/Yolov8/valid/images'}"
      ]
     },
     "metadata": {},
     "output_type": "display_data"
    }
   ],
   "source": [
    "data = {\n",
    "    'train' : \"/content/drive/MyDrive/AI1/Yolov8/train/images\",\n",
    "    'val' : \"/content/drive/MyDrive/AI1/Yolov8/valid/images\",\n",
    "    'names' : classes,\n",
    "    'nc' : nc\n",
    "}\n",
    "\n",
    "with open('./data.yaml', 'w') as f :\n",
    "    yaml.dump(data, f)\n",
    "\n",
    "with open('./data.yaml') as f :\n",
    "    fish_yaml = yaml.safe_load(f)\n",
    "    display(fish_yaml)"
   ]
  }
 ],
 "metadata": {
  "colab": {
   "provenance": []
  },
  "kernelspec": {
   "display_name": "Python 3 (ipykernel)",
   "language": "python",
   "name": "python3"
  },
  "language_info": {
   "codemirror_mode": {
    "name": "ipython",
    "version": 3
   },
   "file_extension": ".py",
   "mimetype": "text/x-python",
   "name": "python",
   "nbconvert_exporter": "python",
   "pygments_lexer": "ipython3",
   "version": "3.10.9"
  }
 },
 "nbformat": 4,
 "nbformat_minor": 1
}
